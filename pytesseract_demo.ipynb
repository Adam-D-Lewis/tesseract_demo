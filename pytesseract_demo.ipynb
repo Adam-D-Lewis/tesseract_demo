{
 "cells": [
  {
   "cell_type": "markdown",
   "metadata": {},
   "source": [
    "# Pytesseract"
   ]
  },
  {
   "cell_type": "markdown",
   "metadata": {},
   "source": [
    "#### Links\n",
    "- https://pypi.org/project/pytesseract/\n",
    "- https://github.com/tesseract-ocr/tesseract\n",
    "- https://en.wikipedia.org/wiki/Tesseract_(software)"
   ]
  },
  {
   "cell_type": "markdown",
   "metadata": {},
   "source": [
    "## Pytesseract Info\n",
    "\n",
    "- Tesseract\n",
    "    - Hewlett Packard developed Tesseract in the 80's-90's\n",
    "    - Written in C and C++\n",
    "    - Released as open source in 2005\n",
    "    - Development sponsored by Google since 2006\n",
    "    - Pre trained on over 100 languages \n",
    "        - custom training possible for other languages\n",
    "    - Didn't use deep learning originally\n",
    "    - Uses LSTM (RNN) starting in v4.0\n",
    "\n",
    "- Works best on good quality images (even lighting, no rotation, good contrast)\n",
    "- Common preprocessing steps\n",
    "    - Correct rotation, skew\n",
    "    - High pass frequency filter to correct lighting"
   ]
  },
  {
   "cell_type": "markdown",
   "metadata": {},
   "source": [
    "# Pytesseract Demo"
   ]
  },
  {
   "cell_type": "code",
   "execution_count": null,
   "metadata": {},
   "outputs": [],
   "source": [
    "from PIL import Image\n",
    "import PIL.ImageEnhance\n",
    "import pytesseract\n",
    "import pandas as pd\n",
    "\n",
    "filename = 'example_check.png'"
   ]
  },
  {
   "cell_type": "code",
   "execution_count": null,
   "metadata": {},
   "outputs": [],
   "source": [
    "image = Image.open(filename)\n",
    "display(image)"
   ]
  },
  {
   "cell_type": "markdown",
   "metadata": {},
   "source": [
    "# Data Extraction in Various Forms"
   ]
  },
  {
   "cell_type": "code",
   "execution_count": null,
   "metadata": {},
   "outputs": [],
   "source": [
    "# Simple image to string\n",
    "print(pytesseract.image_to_string(image))"
   ]
  },
  {
   "cell_type": "code",
   "execution_count": null,
   "metadata": {},
   "outputs": [],
   "source": [
    "# # Batch processing with a single file containing the list of multiple image file paths\n",
    "# print(pytesseract.image_to_string('images.txt'))"
   ]
  },
  {
   "cell_type": "markdown",
   "metadata": {},
   "source": [
    "## Bounding Boxes"
   ]
  },
  {
   "cell_type": "code",
   "execution_count": null,
   "metadata": {},
   "outputs": [],
   "source": [
    "# Get bounding box estimates\n",
    "boxes_str = pytesseract.image_to_boxes(image)\n",
    "print(boxes_str[:200])"
   ]
  },
  {
   "cell_type": "code",
   "execution_count": null,
   "metadata": {},
   "outputs": [],
   "source": [
    "# Get bounding box estimates as dataframe\n",
    "pd.DataFrame(pytesseract.image_to_boxes(image, output_type='dict')).head(10)"
   ]
  },
  {
   "cell_type": "markdown",
   "metadata": {},
   "source": [
    "## Verbose Data"
   ]
  },
  {
   "cell_type": "code",
   "execution_count": null,
   "metadata": {},
   "outputs": [],
   "source": [
    "# Get verbose data including boxes, confidences, line and page numbers\n",
    "# print(pytesseract.Output.__dict__) # see output options\n",
    "# pytesseract.image_to_data(image, output_type='string') # string output\n",
    "# pytesseract.image_to_data(image, output_type='bytes')\n",
    "# pytesseract.image_to_data(image, output_type='dict')\n",
    "pytesseract.image_to_data(image, output_type='data.frame').dropna(axis=0, subset=['text']) # df output"
   ]
  },
  {
   "cell_type": "code",
   "execution_count": null,
   "metadata": {},
   "outputs": [],
   "source": [
    "# Get information about orientation and script (font) detection\n",
    "print(pytesseract.image_to_osd(image))"
   ]
  },
  {
   "cell_type": "code",
   "execution_count": null,
   "metadata": {},
   "outputs": [],
   "source": [
    "# Get a searchable PDF\n",
    "pdf = pytesseract.image_to_pdf_or_hocr(image.filename, extension='pdf')\n",
    "\n",
    "with open('searchable_pdf.pdf', 'wb') as f:\n",
    "    f.write(pdf)"
   ]
  },
  {
   "cell_type": "code",
   "execution_count": null,
   "metadata": {},
   "outputs": [],
   "source": [
    "# Get hOCR output\n",
    "# hOCR is an open standard of data representation for formatted text obtained from optical character recognition (OCR) as html.\n",
    "hocr = pytesseract.image_to_pdf_or_hocr(image.filename, extension='hocr')\n",
    "\n",
    "print(hocr[1525:2013].decode())"
   ]
  },
  {
   "cell_type": "markdown",
   "metadata": {},
   "source": [
    "***"
   ]
  },
  {
   "cell_type": "code",
   "execution_count": null,
   "metadata": {},
   "outputs": [],
   "source": [
    "### Use 2 languages at once\n",
    "txt = pytesseract.image_to_string(image, lang='eng+fre')\n",
    "txt"
   ]
  },
  {
   "cell_type": "markdown",
   "metadata": {},
   "source": [
    "# Common API Functions"
   ]
  },
  {
   "cell_type": "markdown",
   "metadata": {},
   "source": [
    "### Functions\n",
    "\n",
    "- **get_tesseract_version** - Returns the Tesseract version installed in the system.\n",
    "- **image_to_string** - Returns the result of a Tesseract OCR run on the image to string\n",
    "- **image_to_boxes** - Returns result containing recognized characters and their box boundaries\n",
    "- **image_to_data** - Returns result containing box boundaries, confidences, and other information. Requires Tesseract 3.05+. For more information, please check the Tesseract TSV documentation\n",
    "- **image_to_osd** - Returns result containing information about orientation and script detection.\n",
    "- **run_and_get_output** - Returns the raw output from Tesseract OCR. Gives a bit more control over the parameters that are sent to tesseract.\n"
   ]
  },
  {
   "cell_type": "markdown",
   "metadata": {},
   "source": [
    "### Other parameters\n",
    "\n",
    "- **image** - Object, PIL Image/NumPy array of the image to be processed by Tesseract\n",
    "- **lang** - String, Tesseract language code string\n",
    "- **config** - String, Any additional configurations as a string, ex: config='--psm 6'\n",
    "- **nice** - Integer, modifies the processor priority for the Tesseract run. Not supported on Windows. Nice adjusts the niceness of unix-like processes.\n",
    "- **output_type** - Class attribute, specifies the type of the output, defaults to string. For the full list of all supported types, please check the definition of pytesseract.Output class.\n",
    "- **timeout** - Integer or Float, duration in seconds for the OCR processing, after which, pytesseract will terminate and raise RuntimeError."
   ]
  }
 ],
 "metadata": {
  "kernelspec": {
   "display_name": "Python 3",
   "language": "python",
   "name": "python3"
  },
  "language_info": {
   "codemirror_mode": {
    "name": "ipython",
    "version": 3
   },
   "file_extension": ".py",
   "mimetype": "text/x-python",
   "name": "python",
   "nbconvert_exporter": "python",
   "pygments_lexer": "ipython3",
   "version": "3.8.1"
  }
 },
 "nbformat": 4,
 "nbformat_minor": 4
}
